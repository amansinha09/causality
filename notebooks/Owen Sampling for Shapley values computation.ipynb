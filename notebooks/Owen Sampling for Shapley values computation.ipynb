{
 "cells": [
  {
   "cell_type": "code",
   "execution_count": 86,
   "metadata": {
    "collapsed": true
   },
   "outputs": [
    {
     "name": "stdout",
     "output_type": "stream",
     "text": [
      "0\n",
      "1\n",
      "2\n",
      "3\n",
      "4\n",
      "5\n",
      "6\n",
      "7\n",
      "8\n",
      "9\n",
      "10\n",
      "11\n",
      "12\n",
      "13\n",
      "14\n",
      "15\n",
      "16\n",
      "17\n",
      "18\n",
      "19\n",
      "20\n",
      "21\n",
      "22\n",
      "23\n",
      "24\n",
      "25\n",
      "26\n",
      "27\n",
      "28\n",
      "29\n",
      "30\n",
      "31\n",
      "32\n",
      "33\n",
      "34\n",
      "35\n",
      "36\n",
      "37\n",
      "38\n",
      "39\n",
      "40\n",
      "41\n",
      "42\n",
      "43\n",
      "44\n",
      "45\n",
      "46\n",
      "47\n",
      "48\n",
      "49\n",
      "50\n",
      "51\n",
      "52\n",
      "53\n",
      "54\n",
      "55\n",
      "56\n",
      "57\n",
      "58\n",
      "59\n",
      "60\n",
      "61\n",
      "62\n",
      "63\n",
      "64\n",
      "65\n",
      "66\n",
      "67\n",
      "68\n",
      "69\n",
      "70\n",
      "71\n",
      "72\n",
      "73\n",
      "74\n",
      "75\n",
      "76\n",
      "77\n",
      "78\n",
      "79\n",
      "80\n",
      "81\n",
      "82\n",
      "83\n",
      "84\n",
      "85\n",
      "86\n",
      "87\n",
      "88\n",
      "89\n",
      "90\n",
      "91\n",
      "92\n",
      "93\n",
      "94\n",
      "95\n",
      "96\n",
      "97\n",
      "98\n",
      "99\n",
      "100\n",
      "Elapsed time is 2542.794910 seconds.\n"
     ]
    }
   ],
   "source": [
    "import numpy as np\n",
    "import pandas as pd\n",
    "from sklearn.model_selection import train_test_split, cross_val_score, GridSearchCV\n",
    "from sklearn import datasets, model_selection, preprocessing, model_selection\n",
    "from sklearn import neighbors, linear_model, naive_bayes,metrics, preprocessing\n",
    "from sklearn.metrics import confusion_matrix, classification_report\n",
    "from scipy.stats import bernoulli\n",
    "from pytictoc import TicToc\n",
    "import matplotlib.pyplot as plt\n",
    "from random import *\n",
    "%matplotlib inline \n",
    "t = TicToc()\n",
    "#####\n",
    "# https://archive.ics.uci.edu/ml/datasets/default+of+credit+card+clients\n",
    "#####\n",
    "data = pd.read_csv('C:/Users/annak/Desktop/default of credit card clients.csv', sep=';')\n",
    "data = data[:100]            # We start with this small sample as an example\n",
    "\n",
    "##################################################\n",
    "# Shapley Value Computation based on Owen Sampling\n",
    "##################################################\n",
    "\n",
    "Q = 100                      # Integral's discretisation parameter (Rectangle Rule: for simplicity). Other Rules can be used !\n",
    "M = 100                      # Sample Size for the empirical estimator of the expectation\n",
    "d = len(data.columns)-1 \n",
    "Sh = np.zeros([1,d])[0]\n",
    "t.tic()\n",
    "for q in range(0,Q+1):\n",
    "    e = np.zeros([1,d])[0]\n",
    "    for m in range(M):\n",
    "        B = bernoulli.rvs(q/Q, size = d)\n",
    "        while list(B) != list(np.ones([1,d])[0]):\n",
    "            I = B\n",
    "            break\n",
    "        for j in range(d):\n",
    "            X_j = np.zeros([1,d])[0]\n",
    "            X_j[j] = 1\n",
    "\n",
    "            L2, K = [], []\n",
    "            for i in range(d):\n",
    "                L2.append(int(I[i])*data.columns[i])\n",
    "                K.append((int(X_j[i])*data.columns[i]))\n",
    "            L1 = list(set(L2 + K))\n",
    "            L2 = list(set((L2)))\n",
    "            L1.remove('')\n",
    "            L2.remove('')\n",
    "            L1.append('default payment next month')\n",
    "            L2.append('default payment next month')\n",
    "\n",
    "\n",
    "            ##################################################\n",
    "            # K-NN Classifier (As an example)\n",
    "            # The cost function here is the classifier's score\n",
    "            ##################################################\n",
    "\n",
    "            data1 = data[L1]\n",
    "            X_train, X_test, y_train, y_test = train_test_split(np.array(data1)[:,:-1], np.array(data1)[:,-1], test_size=0.2, random_state=42)\n",
    "            knn = neighbors.KNeighborsClassifier(n_neighbors=5)  \n",
    "            knn.fit(X_train,y_train) \n",
    "            c1 = knn.score(X_test,y_test)\n",
    "            ###\n",
    "            if L2 == ['default payment next month']:\n",
    "                c2 = 0\n",
    "            else:\n",
    "\n",
    "                data2 = data[L2]\n",
    "                X_train, X_test, y_train, y_test = train_test_split(np.array(data2)[:,:-1], np.array(data2)[:,-1], test_size=0.2, random_state=42)\n",
    "                knn = neighbors.KNeighborsClassifier(n_neighbors=5)  \n",
    "                knn.fit(X_train,y_train) \n",
    "                c2 = knn.score(X_test,y_test)\n",
    "            ##\n",
    "            e[j] += c1-c2\n",
    "    Sh += e\n",
    "    print(q)\n",
    "t.toc()\n",
    "Sh = Sh*(1/(Q*M))  # Vector of Features' Shapley Values\n",
    "# Elapsed time: 42min38sec"
   ]
  },
  {
   "cell_type": "code",
   "execution_count": 93,
   "metadata": {},
   "outputs": [
    {
     "data": {
      "text/plain": [
       "<matplotlib.legend.Legend at 0x13aa01be848>"
      ]
     },
     "execution_count": 93,
     "metadata": {},
     "output_type": "execute_result"
    },
    {
     "data": {
      "image/png": "[encoded data removed]",
      "text/plain": [
       "<Figure size 432x288 with 1 Axes>"
      ]
     },
     "metadata": {
      "needs_background": "light"
     },
     "output_type": "display_data"
    }
   ],
   "source": [
    "fig = plt.figure()\n",
    "ax = fig.add_axes([0,0,1,1])\n",
    "ax.bar([i for i in range(1,len(data.columns))],Sh)\n",
    "ax.legend(labels=[\"Shapley values\"])"
   ]
  },
  {
   "cell_type": "code",
   "execution_count": 95,
   "metadata": {},
   "outputs": [
    {
     "data": {
      "text/plain": [
       "array([0.071775, 0.03528 , 0.03636 , 0.035025, 0.027755, 0.025295,\n",
       "       0.037425, 0.024815, 0.037185, 0.041425, 0.03659 , 0.040105,\n",
       "       0.040375, 0.02609 , 0.019585, 0.02746 , 0.02603 , 0.03329 ,\n",
       "       0.02957 , 0.032915, 0.021015, 0.03149 , 0.03019 ])"
      ]
     },
     "execution_count": 95,
     "metadata": {},
     "output_type": "execute_result"
    }
   ],
   "source": [
    "Sh"
   ]
  },
  {
   "cell_type": "code",
   "execution_count": null,
   "metadata": {},
   "outputs": [],
   "source": []
  }
 ],
 "metadata": {
  "kernelspec": {
   "display_name": "Python 3",
   "language": "python",
   "name": "python3"
  },
  "language_info": {
   "codemirror_mode": {
    "name": "ipython",
    "version": 3
   },
   "file_extension": ".py",
   "mimetype": "text/x-python",
   "name": "python",
   "nbconvert_exporter": "python",
   "pygments_lexer": "ipython3",
   "version": "3.8.5"
  }
 },
 "nbformat": 4,
 "nbformat_minor": 2
}
