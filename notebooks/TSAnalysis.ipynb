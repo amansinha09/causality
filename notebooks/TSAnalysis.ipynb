{
 "cells": [
  {
   "cell_type": "code",
   "execution_count": 63,
   "metadata": {},
   "outputs": [],
   "source": [
    "import os\n",
    "import pandas as pd\n",
    "import numpy as np"
   ]
  },
  {
   "cell_type": "code",
   "execution_count": 3,
   "metadata": {},
   "outputs": [
    {
     "data": {
      "text/plain": [
       "['OR.FR-d-20200701.csv',\n",
       " 'BNP.FR-d-20200701.csv',\n",
       " 'MC.FR-d-20200701.csv',\n",
       " 'AIR.FR-d-20200701.csv',\n",
       " 'FP.FR-d-20200701.csv',\n",
       " 'DG.FR-d-20200701.csv',\n",
       " 'Fra40-20200102.csv',\n",
       " 'SAN.FR-d-20200701.csv',\n",
       " '.DS_Store']"
      ]
     },
     "execution_count": 3,
     "metadata": {},
     "output_type": "execute_result"
    }
   ],
   "source": [
    "data_dir = '/home/amansinha/Downloads/data/time-series/Le CAC et ses 7 majors 2021-Aman/'\n",
    "\n",
    "os.listdir(data_dir)"
   ]
  },
  {
   "cell_type": "code",
   "execution_count": 4,
   "metadata": {},
   "outputs": [
    {
     "data": {
      "text/html": [
       "<div>\n",
       "<style scoped>\n",
       "    .dataframe tbody tr th:only-of-type {\n",
       "        vertical-align: middle;\n",
       "    }\n",
       "\n",
       "    .dataframe tbody tr th {\n",
       "        vertical-align: top;\n",
       "    }\n",
       "\n",
       "    .dataframe thead th {\n",
       "        text-align: right;\n",
       "    }\n",
       "</style>\n",
       "<table border=\"1\" class=\"dataframe\">\n",
       "  <thead>\n",
       "    <tr style=\"text-align: right;\">\n",
       "      <th></th>\n",
       "      <th>name</th>\n",
       "      <th>val</th>\n",
       "      <th>datetime</th>\n",
       "    </tr>\n",
       "  </thead>\n",
       "  <tbody>\n",
       "    <tr>\n",
       "      <th>0</th>\n",
       "      <td>BNP.FR-d</td>\n",
       "      <td>35.43</td>\n",
       "      <td>2020-01-07 09:00:00</td>\n",
       "    </tr>\n",
       "    <tr>\n",
       "      <th>1</th>\n",
       "      <td>BNP.FR-d</td>\n",
       "      <td>35.42</td>\n",
       "      <td>2020-01-07 09:00:15</td>\n",
       "    </tr>\n",
       "    <tr>\n",
       "      <th>2</th>\n",
       "      <td>BNP.FR-d</td>\n",
       "      <td>35.42</td>\n",
       "      <td>2020-01-07 09:00:30</td>\n",
       "    </tr>\n",
       "    <tr>\n",
       "      <th>3</th>\n",
       "      <td>BNP.FR-d</td>\n",
       "      <td>35.41</td>\n",
       "      <td>2020-01-07 09:00:45</td>\n",
       "    </tr>\n",
       "    <tr>\n",
       "      <th>4</th>\n",
       "      <td>BNP.FR-d</td>\n",
       "      <td>35.41</td>\n",
       "      <td>2020-01-07 09:01:00</td>\n",
       "    </tr>\n",
       "    <tr>\n",
       "      <th>...</th>\n",
       "      <td>...</td>\n",
       "      <td>...</td>\n",
       "      <td>...</td>\n",
       "    </tr>\n",
       "    <tr>\n",
       "      <th>248997</th>\n",
       "      <td>BNP.FR-d</td>\n",
       "      <td>29.94</td>\n",
       "      <td>2020-10-30 17:29:00</td>\n",
       "    </tr>\n",
       "    <tr>\n",
       "      <th>248998</th>\n",
       "      <td>BNP.FR-d</td>\n",
       "      <td>29.92</td>\n",
       "      <td>2020-10-30 17:29:15</td>\n",
       "    </tr>\n",
       "    <tr>\n",
       "      <th>248999</th>\n",
       "      <td>BNP.FR-d</td>\n",
       "      <td>29.91</td>\n",
       "      <td>2020-10-30 17:29:30</td>\n",
       "    </tr>\n",
       "    <tr>\n",
       "      <th>249000</th>\n",
       "      <td>BNP.FR-d</td>\n",
       "      <td>29.91</td>\n",
       "      <td>2020-10-30 17:29:45</td>\n",
       "    </tr>\n",
       "    <tr>\n",
       "      <th>249001</th>\n",
       "      <td>BNP.FR-d</td>\n",
       "      <td>29.91</td>\n",
       "      <td>2020-10-30 17:30:00</td>\n",
       "    </tr>\n",
       "  </tbody>\n",
       "</table>\n",
       "<p>249002 rows × 3 columns</p>\n",
       "</div>"
      ],
      "text/plain": [
       "            name    val            datetime\n",
       "0       BNP.FR-d  35.43 2020-01-07 09:00:00\n",
       "1       BNP.FR-d  35.42 2020-01-07 09:00:15\n",
       "2       BNP.FR-d  35.42 2020-01-07 09:00:30\n",
       "3       BNP.FR-d  35.41 2020-01-07 09:00:45\n",
       "4       BNP.FR-d  35.41 2020-01-07 09:01:00\n",
       "...          ...    ...                 ...\n",
       "248997  BNP.FR-d  29.94 2020-10-30 17:29:00\n",
       "248998  BNP.FR-d  29.92 2020-10-30 17:29:15\n",
       "248999  BNP.FR-d  29.91 2020-10-30 17:29:30\n",
       "249000  BNP.FR-d  29.91 2020-10-30 17:29:45\n",
       "249001  BNP.FR-d  29.91 2020-10-30 17:30:00\n",
       "\n",
       "[249002 rows x 3 columns]"
      ]
     },
     "execution_count": 4,
     "metadata": {},
     "output_type": "execute_result"
    }
   ],
   "source": [
    "df = pd.read_csv(data_dir + 'BNP.FR-d-20200701.csv', sep=' ', names=['name', 'date', 'time', 'val', 'extra'])\n",
    "df.drop('extra', axis=1, inplace=True)\n",
    "\n",
    "df['datetime'] = df[['date', 'time']].agg(' '.join, axis=1)\n",
    "df['datetime'] = df['datetime'].astype('datetime64[ns]')\n",
    "\n",
    "df.drop(['date', 'time'], axis=1, inplace=True)\n",
    "\n",
    "df"
   ]
  },
  {
   "cell_type": "code",
   "execution_count": 63,
   "metadata": {},
   "outputs": [
    {
     "data": {
      "text/plain": [
       "<AxesSubplot:xlabel='datetime'>"
      ]
     },
     "execution_count": 63,
     "metadata": {},
     "output_type": "execute_result"
    },
    {
     "data": {
      "image/png": "[encoded data removed]",
      "text/plain": [
       "<Figure size 432x288 with 1 Axes>"
      ]
     },
     "metadata": {
      "needs_background": "light"
     },
     "output_type": "display_data"
    }
   ],
   "source": [
    "df[:2041].plot(x='datetime', y='val', style='*')"
   ]
  },
  {
   "cell_type": "code",
   "execution_count": 59,
   "metadata": {},
   "outputs": [
    {
     "data": {
      "text/plain": [
       "<AxesSubplot:xlabel='datetime'>"
      ]
     },
     "execution_count": 59,
     "metadata": {},
     "output_type": "execute_result"
    },
    {
     "data": {
      "image/png": "[encoded data removed]",
      "text/plain": [
       "<Figure size 432x288 with 1 Axes>"
      ]
     },
     "metadata": {
      "needs_background": "light"
     },
     "output_type": "display_data"
    }
   ],
   "source": [
    "df[2042: 4080].plot(x='datetime', y='val', style='*')"
   ]
  },
  {
   "cell_type": "markdown",
   "metadata": {},
   "source": [
    "# Time Series Classes"
   ]
  },
  {
   "cell_type": "code",
   "execution_count": 66,
   "metadata": {},
   "outputs": [],
   "source": [
    "class TSElement(object):\n",
    "    def __init__(self,dt, val=0):\n",
    "        self.dt = dt\n",
    "        self.val = val\n",
    "        \n",
    "    def __str__(self):\n",
    "        string = []\n",
    "        \n",
    "        id_dt= self.dt\n",
    "        string.append(f'Datetime: {self.dt}')\n",
    "        \n",
    "        id_val = self.val\n",
    "        string.append(f'Value : {self.val}')\n",
    "        \n",
    "        return string\n",
    "    \n",
    "#    def __mean__(self, other):\n",
    " #       if (isinstance(other, TSElement)):\n",
    "  #          return other.val + self.val\n",
    "        \n",
    "   #     except AttributeError:          \n",
    "\n",
    "class TimeSeriesData:\n",
    "    def __init__(self, df, name, h=3):\n",
    "        self.name = name\n",
    "        self.h = h\n",
    "        self.instances = None\n",
    "        #self.bs = bs\n",
    "        \n",
    "    def __len__(self):\n",
    "        return len(df) - self.h\n",
    "    \n",
    "    def prepare_data(self):\n",
    "        l = list(zip(df['datetime'],df['val']))\n",
    "        self.instances  = [[TSElement(*o) for o in l[i:i+self.h]] for i,e in enumerate(l) if (i+self.h) < len(df)]\n",
    "        print('Size of Dataset:', len(self.instances))\n",
    "    \n",
    "    def avg_baseline(self):\n",
    "        \n",
    "        predictions = []\n",
    "        truths = []\n",
    "        \n",
    "        for instance in self.instances:\n",
    "            seq = instance[:-1]\n",
    "            truths.append(instance[-1].val)\n",
    "            predictions.append(np.mean([ins.val for ins in seq]))\n",
    "            \n",
    "        return truths, predictions\n"
   ]
  },
  {
   "cell_type": "code",
   "execution_count": null,
   "metadata": {},
   "outputs": [],
   "source": []
  },
  {
   "cell_type": "code",
   "execution_count": 97,
   "metadata": {},
   "outputs": [
    {
     "name": "stdout",
     "output_type": "stream",
     "text": [
      "Size of Dataset: 248992\n"
     ]
    }
   ],
   "source": [
    "ts = TimeSeriesData(df, name='BNP', h=10)\n",
    "ts.prepare_data()\n",
    "t,p = ts.avg_baseline()"
   ]
  },
  {
   "cell_type": "code",
   "execution_count": 98,
   "metadata": {},
   "outputs": [
    {
     "data": {
      "text/plain": [
       "0.016759190835225507"
      ]
     },
     "execution_count": 98,
     "metadata": {},
     "output_type": "execute_result"
    }
   ],
   "source": [
    "# uncomment to see \n",
    "diff = []\n",
    "for tt,pp in zip(t,p):\n",
    "    diff.append(abs(tt-pp))\n",
    "np.mean(diff)"
   ]
  },
  {
   "cell_type": "markdown",
   "metadata": {},
   "source": [
    "# sequence length (h-1) vs mean_abs_diff\n",
    "\n",
    "||h|avg_abs_diff|\n",
    "|---|---|---|\n",
    "||4|0.0116019|\n",
    "||5|0.0126558|\n",
    "||6|0.0135694|\n",
    "||7|0.0144012|\n",
    "||8|0.015213|\n",
    "||9|0.015998|\n",
    "||10|0.01675|"
   ]
  },
  {
   "cell_type": "code",
   "execution_count": 74,
   "metadata": {},
   "outputs": [],
   "source": [
    "import matplotlib.pyplot as plt"
   ]
  },
  {
   "cell_type": "code",
   "execution_count": 84,
   "metadata": {},
   "outputs": [
    {
     "name": "stdout",
     "output_type": "stream",
     "text": [
      "100 100 100\n"
     ]
    },
    {
     "data": {
      "text/plain": [
       "<matplotlib.collections.PathCollection at 0x7f55afa76b80>"
      ]
     },
     "execution_count": 84,
     "metadata": {},
     "output_type": "execute_result"
    },
    {
     "data": {
      "image/png": "[encoded data removed]",
      "text/plain": [
       "<Figure size 432x288 with 1 Axes>"
      ]
     },
     "metadata": {
      "needs_background": "light"
     },
     "output_type": "display_data"
    }
   ],
   "source": [
    "# h = 4\n",
    "\n",
    "x = list(range(1,248999))[:100]\n",
    "y1 = p[:100]\n",
    "y2 = t[:100]\n",
    "print(len(x), len(y1), len(y2))\n",
    "plt.scatter(x, y1, c = 'red')# prediction\n",
    "plt.scatter(x, y2, c = 'green')# truth"
   ]
  },
  {
   "cell_type": "code",
   "execution_count": null,
   "metadata": {},
   "outputs": [],
   "source": []
  }
 ],
 "metadata": {
  "kernelspec": {
   "display_name": "Python 3",
   "language": "python",
   "name": "python3"
  },
  "language_info": {
   "codemirror_mode": {
    "name": "ipython",
    "version": 3
   },
   "file_extension": ".py",
   "mimetype": "text/x-python",
   "name": "python",
   "nbconvert_exporter": "python",
   "pygments_lexer": "ipython3",
   "version": "3.8.5"
  }
 },
 "nbformat": 4,
 "nbformat_minor": 4
}
